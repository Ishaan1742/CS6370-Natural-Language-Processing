{
 "cells": [
  {
   "cell_type": "code",
   "execution_count": 2,
   "metadata": {},
   "outputs": [],
   "source": [
    "from nltk.corpus import wordnet"
   ]
  },
  {
   "cell_type": "code",
   "execution_count": 8,
   "metadata": {},
   "outputs": [
    {
     "name": "stdout",
     "output_type": "stream",
     "text": [
      "Synsets of the word \"progress:\"\n",
      "advancement.n.03\n",
      "progress.n.02\n",
      "progress.n.03\n",
      "progress.v.01\n",
      "advance.v.01\n",
      "build_up.v.02\n",
      "Synsets of the word \"advance:\"\n",
      "progress.n.03\n",
      "improvement.n.01\n",
      "overture.n.03\n",
      "progress.n.02\n",
      "advance.n.05\n",
      "advance.n.06\n",
      "advance.v.01\n",
      "advance.v.02\n",
      "boost.v.04\n",
      "promote.v.01\n",
      "advance.v.05\n",
      "gain.v.05\n",
      "progress.v.01\n",
      "advance.v.08\n",
      "promote.v.02\n",
      "advance.v.10\n",
      "advance.v.11\n",
      "advance.v.12\n",
      "advance.s.01\n",
      "advance.s.02\n"
     ]
    }
   ],
   "source": [
    "#Q1.\n",
    "word1_synsets = wordnet.synsets('progress')\n",
    "word2_synsets = wordnet.synsets('advance')\n",
    "\n",
    "# Print all the synsets of the word vertical\n",
    "print('Synsets of the word \"progress:\"')\n",
    "for synset in word1_synsets:\n",
    "    print(synset.name())\n",
    "print('Synsets of the word \"advance:\"')\n",
    "for synset in word2_synsets:\n",
    "    print(synset.name())\n"
   ]
  },
  {
   "cell_type": "code",
   "execution_count": 9,
   "metadata": {},
   "outputs": [
    {
     "name": "stdout",
     "output_type": "stream",
     "text": [
      "Definitions of the word \"progress:\"\n",
      "Definition for Synset('advancement.n.03'): gradual improvement or growth or development\n",
      "Definition for Synset('progress.n.02'): the act of moving forward (as toward a goal)\n",
      "Definition for Synset('progress.n.03'): a movement forward\n",
      "Definition for Synset('progress.v.01'): develop in a positive way\n",
      "Definition for Synset('advance.v.01'): move forward, also in the metaphorical sense\n",
      "Definition for Synset('build_up.v.02'): form or accumulate steadily\n",
      "\n",
      "\n",
      "Definitions of the word \"advance:\"\n",
      "Definition for Synset('progress.n.03'): a movement forward\n",
      "Definition for Synset('improvement.n.01'): a change for the better; progress in development\n",
      "Definition for Synset('overture.n.03'): a tentative suggestion designed to elicit the reactions of others\n",
      "Definition for Synset('progress.n.02'): the act of moving forward (as toward a goal)\n",
      "Definition for Synset('advance.n.05'): an amount paid before it is earned\n",
      "Definition for Synset('advance.n.06'): increase in price or value\n",
      "Definition for Synset('advance.v.01'): move forward, also in the metaphorical sense\n",
      "Definition for Synset('advance.v.02'): bring forward for consideration or acceptance\n",
      "Definition for Synset('boost.v.04'): increase or raise\n",
      "Definition for Synset('promote.v.01'): contribute to the progress or growth of\n",
      "Definition for Synset('advance.v.05'): cause to move forward\n",
      "Definition for Synset('gain.v.05'): obtain advantages, such as points, etc.\n",
      "Definition for Synset('progress.v.01'): develop in a positive way\n",
      "Definition for Synset('advance.v.08'): develop further\n",
      "Definition for Synset('promote.v.02'): give a promotion to or assign to a higher position\n",
      "Definition for Synset('advance.v.10'): pay in advance\n",
      "Definition for Synset('advance.v.11'): move forward\n",
      "Definition for Synset('advance.v.12'): rise in rate or price\n",
      "Definition for Synset('advance.s.01'): being ahead of time or need\n",
      "Definition for Synset('advance.s.02'): situated ahead or going before\n"
     ]
    }
   ],
   "source": [
    "#Q2.\n",
    "print('Definitions of the word \"progress:\"')\n",
    "for synset in word1_synsets:\n",
    "    print(f\"Definition for {synset}: {synset.definition()}\")\n",
    "print(\"\\n\")\n",
    "print('Definitions of the word \"advance:\"')\n",
    "for synset in word2_synsets:\n",
    "    print(f\"Definition for {synset}: {synset.definition()}\")"
   ]
  },
  {
   "cell_type": "code",
   "execution_count": 5,
   "metadata": {},
   "outputs": [
    {
     "name": "stdout",
     "output_type": "stream",
     "text": [
      "Path similarity between 'progress' and 'advance': 1.0\n"
     ]
    }
   ],
   "source": [
    "#Q3. \n",
    "def calculate_path_similarity(word1, word2):\n",
    "    max_similarity = 0\n",
    "    word1_synsets = wordnet.synsets(word1)\n",
    "    word2_synsets = wordnet.synsets(word2)\n",
    "    max_similarity = 0\n",
    "    for synset1 in word1_synsets:\n",
    "        for synset2 in word2_synsets:\n",
    "            similarity = synset1.path_similarity(synset2) #calculating path similarity (inbuilt function in nltk library)\n",
    "            if similarity and similarity > max_similarity:\n",
    "                max_similarity = similarity #updating max_similarity if similarity is greater than max_similarity\n",
    "    return max_similarity\n",
    "\n",
    "word1 = 'progress'\n",
    "word2 = 'advance'\n",
    "similarity = calculate_path_similarity(word1, word2) #calling the function to calculate path similarity\n",
    "print(f\"Path similarity between '{word1}' and '{word2}': {similarity}\")"
   ]
  }
 ],
 "metadata": {
  "kernelspec": {
   "display_name": "myvenv",
   "language": "python",
   "name": "python3"
  },
  "language_info": {
   "codemirror_mode": {
    "name": "ipython",
    "version": 3
   },
   "file_extension": ".py",
   "mimetype": "text/x-python",
   "name": "python",
   "nbconvert_exporter": "python",
   "pygments_lexer": "ipython3",
   "version": "3.8.9"
  }
 },
 "nbformat": 4,
 "nbformat_minor": 2
}
